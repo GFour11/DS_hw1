{
 "cells": [
  {
   "cell_type": "code",
   "execution_count": 1,
   "id": "initial_id",
   "metadata": {
    "collapsed": true,
    "ExecuteTime": {
     "end_time": "2023-09-20T17:46:21.643115400Z",
     "start_time": "2023-09-20T17:46:21.459291Z"
    }
   },
   "outputs": [],
   "source": [
    "import numpy as np\n",
    "from random import randint"
   ]
  },
  {
   "cell_type": "code",
   "execution_count": 2,
   "outputs": [
    {
     "name": "stdout",
     "output_type": "stream",
     "text": [
      "[ 1  2  3  4  5  6  7  8  9 10]\n"
     ]
    }
   ],
   "source": [
    "vector = np.array([1, 2, 3, 4, 5, 6, 7, 8, 9, 10], dtype=int)\n",
    "print(vector)"
   ],
   "metadata": {
    "collapsed": false,
    "ExecuteTime": {
     "end_time": "2023-09-20T17:46:21.734652900Z",
     "start_time": "2023-09-20T17:46:21.627054800Z"
    }
   },
   "id": "537f979a652bd039"
  },
  {
   "cell_type": "code",
   "execution_count": 3,
   "outputs": [
    {
     "name": "stdout",
     "output_type": "stream",
     "text": [
      "[[0 0 0]\n",
      " [0 0 0]\n",
      " [0 0 0]]\n"
     ]
    }
   ],
   "source": [
    "matrix = np.array([[0,0,0],[0,0,0],[0,0,0]], dtype=int)\n",
    "print(matrix)"
   ],
   "metadata": {
    "collapsed": false,
    "ExecuteTime": {
     "end_time": "2023-09-20T17:46:22.621739500Z",
     "start_time": "2023-09-20T17:46:21.693319800Z"
    }
   },
   "id": "4bfafdccf9f15e91"
  },
  {
   "cell_type": "code",
   "execution_count": 4,
   "outputs": [
    {
     "name": "stdout",
     "output_type": "stream",
     "text": [
      "[[ 3  1 10  6  3]\n",
      " [ 3  2  5  4  8]\n",
      " [ 9  5  2  4  9]\n",
      " [ 4  7  7  5 10]\n",
      " [10 10  1  2  1]]\n"
     ]
    }
   ],
   "source": [
    "matrix2= np.array([[randint(1,10) for _ in range(5)] for _ in range(5)])\n",
    "print(matrix2)"
   ],
   "metadata": {
    "collapsed": false,
    "ExecuteTime": {
     "end_time": "2023-09-20T17:46:22.622736600Z",
     "start_time": "2023-09-20T17:46:21.757799300Z"
    }
   },
   "id": "9a1d82b892e84ed5"
  },
  {
   "cell_type": "code",
   "execution_count": 5,
   "outputs": [
    {
     "name": "stdout",
     "output_type": "stream",
     "text": [
      "[[0.06401179 0.97781995 0.7936729  0.25355697]\n",
      " [0.28598655 0.1358653  0.39399675 0.38868123]\n",
      " [0.87467736 0.97014    0.32723265 0.29067574]\n",
      " [0.31371461 0.41585521 0.2517523  0.44376557]]\n"
     ]
    }
   ],
   "source": [
    "matrix3 = np.random.random((4,4))\n",
    "print(matrix3)"
   ],
   "metadata": {
    "collapsed": false,
    "ExecuteTime": {
     "end_time": "2023-09-20T17:46:22.625397800Z",
     "start_time": "2023-09-20T17:46:21.937302Z"
    }
   },
   "id": "f3c73f4739a00871"
  },
  {
   "cell_type": "code",
   "execution_count": 6,
   "outputs": [
    {
     "name": "stdout",
     "output_type": "stream",
     "text": [
      "[[5 5 5 5 5]]\n",
      "[[ 7  9 11 13 15]]\n",
      "[[ 6 14 24 36 50]]\n"
     ]
    }
   ],
   "source": [
    "vec1 = np.array([[1,2,3,4,5]], dtype=int)\n",
    "vec2 = np.array([[6,7,8,9,10]], dtype=int)\n",
    "print(vec2-vec1)\n",
    "print(vec2+vec1)\n",
    "print(vec2*vec1)"
   ],
   "metadata": {
    "collapsed": false,
    "ExecuteTime": {
     "end_time": "2023-09-20T17:46:22.644079400Z",
     "start_time": "2023-09-20T17:46:22.149970500Z"
    }
   },
   "id": "ce0e36dd452924c9"
  },
  {
   "cell_type": "code",
   "execution_count": 7,
   "outputs": [
    {
     "name": "stdout",
     "output_type": "stream",
     "text": [
      "num 6 = 262\n"
     ]
    }
   ],
   "source": [
    "a = np.array([randint(1,10) for _ in range(7)])\n",
    "b = np.array([randint(1,10) for _ in range(7)])\n",
    "print(f'num 6 = {np.dot(a, b)}')"
   ],
   "metadata": {
    "collapsed": false,
    "ExecuteTime": {
     "end_time": "2023-09-20T17:46:22.646073400Z",
     "start_time": "2023-09-20T17:46:22.156709600Z"
    }
   },
   "id": "cf0f0f0ba0f2a5d"
  },
  {
   "cell_type": "code",
   "execution_count": 8,
   "outputs": [
    {
     "name": "stdout",
     "output_type": "stream",
     "text": [
      "[[ 36  26  18]\n",
      " [144  94 102]]\n"
     ]
    }
   ],
   "source": [
    "first = np.array([[randint(1,10) for _ in range(2)] for _ in range(2)])\n",
    "second = np.array([[randint(1,10) for _ in range(3)] for _ in range(2)])\n",
    "res = np.dot(first,second)\n",
    "print(res)"
   ],
   "metadata": {
    "collapsed": false,
    "ExecuteTime": {
     "end_time": "2023-09-20T17:46:22.647071800Z",
     "start_time": "2023-09-20T17:46:22.262836Z"
    }
   },
   "id": "7ef2663cd25b0f77"
  },
  {
   "cell_type": "code",
   "execution_count": 9,
   "outputs": [
    {
     "name": "stdout",
     "output_type": "stream",
     "text": [
      "[[ 0.80769231 -0.23076923 -0.03846154]\n",
      " [ 0.23076923  0.07692308 -0.15384615]\n",
      " [-0.65384615  0.11538462  0.26923077]]\n"
     ]
    }
   ],
   "source": [
    "numb8 = np.array([[randint(1,10) for _ in range(3)] for _ in range(3)])\n",
    "a_inv = np.linalg.inv(numb8)\n",
    "print(a_inv)"
   ],
   "metadata": {
    "collapsed": false,
    "ExecuteTime": {
     "end_time": "2023-09-20T17:46:22.649065400Z",
     "start_time": "2023-09-20T17:46:22.325549400Z"
    }
   },
   "id": "ad4a050a5e578d1d"
  },
  {
   "cell_type": "code",
   "execution_count": 10,
   "outputs": [
    {
     "name": "stdout",
     "output_type": "stream",
     "text": [
      "[[0.63740068 0.9509082  0.09060884 0.12682921]\n",
      " [0.35818025 0.82170797 0.88084707 0.66109339]\n",
      " [0.32570885 0.5590296  0.25936043 0.86454663]\n",
      " [0.63390607 0.11275658 0.11118502 0.736394  ]]\n"
     ]
    }
   ],
   "source": [
    "numb9 = np.random.random((4,4))\n",
    "result9 = numb9.T\n",
    "print(result9)"
   ],
   "metadata": {
    "collapsed": false,
    "ExecuteTime": {
     "end_time": "2023-09-20T17:46:22.884709900Z",
     "start_time": "2023-09-20T17:46:22.501538200Z"
    }
   },
   "id": "e72fb638511b522c"
  },
  {
   "cell_type": "code",
   "execution_count": 11,
   "outputs": [
    {
     "name": "stdout",
     "output_type": "stream",
     "text": [
      "[131 119 110]\n"
     ]
    }
   ],
   "source": [
    "numb10 = np.array([[randint(1,10) for _ in range(4)] for _ in range(3)])\n",
    "vec10 = np.array([0,4,5,9])\n",
    "print(np.dot(numb10,vec10))"
   ],
   "metadata": {
    "collapsed": false,
    "ExecuteTime": {
     "end_time": "2023-09-20T17:46:22.927928Z",
     "start_time": "2023-09-20T17:46:22.652057300Z"
    }
   },
   "id": "3b79875430f82379"
  },
  {
   "cell_type": "code",
   "execution_count": 12,
   "outputs": [
    {
     "name": "stdout",
     "output_type": "stream",
     "text": [
      "[0.8543645  0.63030021]\n"
     ]
    }
   ],
   "source": [
    "mat11 = np.random.random((2,3))\n",
    "vec11 = np.random.random((3,))\n",
    "print(np.dot(mat11,vec11))"
   ],
   "metadata": {
    "collapsed": false,
    "ExecuteTime": {
     "end_time": "2023-09-20T17:46:23.066358200Z",
     "start_time": "2023-09-20T17:46:22.845813200Z"
    }
   },
   "id": "bceb4f49e5fbdee1"
  },
  {
   "cell_type": "code",
   "execution_count": 13,
   "outputs": [
    {
     "name": "stdout",
     "output_type": "stream",
     "text": [
      " This is mat_1[[8 5]\n",
      " [5 7]]\n",
      " this is mat_2 = [[5 7]\n",
      " [8 7]]\n",
      "[[40 35]\n",
      " [40 49]]\n"
     ]
    }
   ],
   "source": [
    "mat_1 = np.random.randint(1,10,(2,2))\n",
    "mat_2 = np.random.randint(1,10,(2,2))\n",
    "print(f' This is mat_1{mat_1}\\n this is mat_2 = {mat_2}')\n",
    "print(mat_2*mat_1)"
   ],
   "metadata": {
    "collapsed": false,
    "ExecuteTime": {
     "end_time": "2023-09-20T17:46:23.165346500Z",
     "start_time": "2023-09-20T17:46:23.047312Z"
    }
   },
   "id": "6e94bbbd5eda0708"
  },
  {
   "cell_type": "code",
   "execution_count": 14,
   "outputs": [
    {
     "name": "stdout",
     "output_type": "stream",
     "text": [
      "840\n",
      "90\n"
     ]
    }
   ],
   "source": [
    "mat_1 = np.random.randint(1,10,(2,2))\n",
    "mat_2 = np.random.randint(1,10,(2,2))\n",
    "print(np.prod(mat_2))\n",
    "print(np.prod(mat_1))"
   ],
   "metadata": {
    "collapsed": false,
    "ExecuteTime": {
     "end_time": "2023-09-20T17:46:23.283795800Z",
     "start_time": "2023-09-20T17:46:23.159362400Z"
    }
   },
   "id": "e21d6ab6bbbc4ac6"
  },
  {
   "cell_type": "code",
   "execution_count": 15,
   "outputs": [
    {
     "name": "stdout",
     "output_type": "stream",
     "text": [
      "1370\n"
     ]
    }
   ],
   "source": [
    "mat_14 = np.random.randint(1,100,(5,5))\n",
    "print(np.sum(mat_14))"
   ],
   "metadata": {
    "collapsed": false,
    "ExecuteTime": {
     "end_time": "2023-09-20T17:46:23.378084500Z",
     "start_time": "2023-09-20T17:46:23.279758600Z"
    }
   },
   "id": "e4b24b7144fec551"
  },
  {
   "cell_type": "code",
   "execution_count": 16,
   "outputs": [
    {
     "name": "stdout",
     "output_type": "stream",
     "text": [
      "[[ 0  4 -3  4]\n",
      " [ 3 -3  4  4]\n",
      " [ 6 -4  3  0]\n",
      " [-7  2  3  1]]\n"
     ]
    }
   ],
   "source": [
    "mat_15 = np.random.randint(1,10,(4,4))\n",
    "mat_152 = np.random.randint(1,10,(4,4))\n",
    "print(mat_15 - mat_152)"
   ],
   "metadata": {
    "collapsed": false,
    "ExecuteTime": {
     "end_time": "2023-09-20T17:46:23.475928600Z",
     "start_time": "2023-09-20T17:46:23.366952600Z"
    }
   },
   "id": "8c84bb5a0542ef9e"
  },
  {
   "cell_type": "code",
   "execution_count": 17,
   "outputs": [
    {
     "name": "stdout",
     "output_type": "stream",
     "text": [
      "[1.64375582 1.6028615  1.38424475]\n"
     ]
    }
   ],
   "source": [
    "matrix = np.random.random((3, 3))\n",
    "print(np.sum(matrix,axis=1))"
   ],
   "metadata": {
    "collapsed": false,
    "ExecuteTime": {
     "end_time": "2023-09-20T17:46:23.563076500Z",
     "start_time": "2023-09-20T17:46:23.470941600Z"
    }
   },
   "id": "8ebf37d0f6779790"
  },
  {
   "cell_type": "code",
   "execution_count": 18,
   "outputs": [
    {
     "name": "stdout",
     "output_type": "stream",
     "text": [
      "[[ 1  1 81 49]\n",
      " [ 4 16 36 36]\n",
      " [25 16 36 49]]\n"
     ]
    }
   ],
   "source": [
    "matrix = np.random.randint(1,10,(3,4))\n",
    "print(matrix**2)"
   ],
   "metadata": {
    "collapsed": false,
    "ExecuteTime": {
     "end_time": "2023-09-20T17:46:23.642757900Z",
     "start_time": "2023-09-20T17:46:23.561081600Z"
    }
   },
   "id": "c114ac719c54baca"
  },
  {
   "cell_type": "code",
   "execution_count": 19,
   "outputs": [
    {
     "name": "stdout",
     "output_type": "stream",
     "text": [
      "[1. 9. 6. 3.]\n"
     ]
    }
   ],
   "source": [
    "v = np.array([1,81,36,9])\n",
    "print(np.sqrt(v))"
   ],
   "metadata": {
    "collapsed": false,
    "ExecuteTime": {
     "end_time": "2023-09-20T17:46:23.751417900Z",
     "start_time": "2023-09-20T17:46:23.639766Z"
    }
   },
   "id": "b69ad976d872b332"
  }
 ],
 "metadata": {
  "kernelspec": {
   "display_name": "Python 3",
   "language": "python",
   "name": "python3"
  },
  "language_info": {
   "codemirror_mode": {
    "name": "ipython",
    "version": 2
   },
   "file_extension": ".py",
   "mimetype": "text/x-python",
   "name": "python",
   "nbconvert_exporter": "python",
   "pygments_lexer": "ipython2",
   "version": "2.7.6"
  }
 },
 "nbformat": 4,
 "nbformat_minor": 5
}
